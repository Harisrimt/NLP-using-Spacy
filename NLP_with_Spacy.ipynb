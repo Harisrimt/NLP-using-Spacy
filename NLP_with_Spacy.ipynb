{
 "cells": [
  {
   "cell_type": "markdown",
   "id": "f0120268",
   "metadata": {},
   "source": [
    "### Importing necessary packages"
   ]
  },
  {
   "cell_type": "code",
   "execution_count": 1,
   "id": "868172cf",
   "metadata": {
    "scrolled": true
   },
   "outputs": [],
   "source": [
    "# !pip install -U spacy\n",
    "# !python -m spacy download en_core_web_sm\n",
    "# !pip install -U spacy_syllables\n",
    "# !python -m spacy download en_core_web_md"
   ]
  },
  {
   "cell_type": "code",
   "execution_count": 2,
   "id": "93f8e71b",
   "metadata": {},
   "outputs": [
    {
     "name": "stderr",
     "output_type": "stream",
     "text": [
      "2023-08-03 10:09:43.488348: I tensorflow/core/platform/cpu_feature_guard.cc:182] This TensorFlow binary is optimized to use available CPU instructions in performance-critical operations.\n",
      "To enable the following instructions: AVX2 FMA, in other operations, rebuild TensorFlow with the appropriate compiler flags.\n"
     ]
    }
   ],
   "source": [
    "import requests\n",
    "from bs4 import BeautifulSoup\n",
    "import pandas as pd\n",
    "import re\n",
    "import os\n",
    "import numpy as np\n",
    "import spacy\n",
    "from spacy_syllables import SpacySyllables"
   ]
  },
  {
   "cell_type": "markdown",
   "id": "e3c22150",
   "metadata": {},
   "source": [
    "#### Defining path of the files"
   ]
  },
  {
   "cell_type": "code",
   "execution_count": 3,
   "id": "2ed975c8",
   "metadata": {},
   "outputs": [
    {
     "name": "stdout",
     "output_type": "stream",
     "text": [
      "/Users/hari/Documents/GitHub/Job-search-2023/BlackCoffer\n"
     ]
    }
   ],
   "source": [
    "basepath = os.getcwd()\n",
    "print(basepath)\n",
    "output_file = pd.read_excel('Output Data Structure.xlsx')"
   ]
  },
  {
   "cell_type": "markdown",
   "id": "b7d5b5e7",
   "metadata": {},
   "source": [
    "#### Defing function for web scraping"
   ]
  },
  {
   "cell_type": "code",
   "execution_count": 4,
   "id": "fd8004a2",
   "metadata": {},
   "outputs": [],
   "source": [
    "def get_data(url, url_id):\n",
    "    filename = basepath + \"/Scraped_files/URL_\" + str(url_id).rjust(3,'0') + \".txt\"\n",
    "    text_file = open(filename, \"wt\")\n",
    "    strings_in_content = \"\"\n",
    "\n",
    "    r = requests.get(url)\n",
    "    htmlContent = r.content\n",
    "\n",
    "    soup = BeautifulSoup(htmlContent, 'html.parser')\n",
    "    title = soup.title\n",
    "    strings_in_content = strings_in_content + title.string + \"\\n\"\n",
    "\n",
    "    for para in soup.find_all(\"p\"):\n",
    "        string2 = str(para.get_text())\n",
    "        strings_in_content = strings_in_content + '\\n' + string2\n",
    "\n",
    "    n = text_file.write(strings_in_content)\n",
    "    text_file.close()"
   ]
  },
  {
   "cell_type": "markdown",
   "id": "8da68457",
   "metadata": {},
   "source": [
    "#### Uncomment the below block to do web scraping"
   ]
  },
  {
   "cell_type": "code",
   "execution_count": 5,
   "id": "c237306c",
   "metadata": {},
   "outputs": [],
   "source": [
    "# input_file = pd.read_excel(basepath+'/Input.xlsx')\n",
    "# url_id = input_file.iloc[:,0]\n",
    "# url = input_file.iloc[:,1]\n",
    "# for i in range (len(url_id)):\n",
    "#     get_data(url[i],url_id[i])\n"
   ]
  },
  {
   "cell_type": "code",
   "execution_count": 6,
   "id": "f8f7288b",
   "metadata": {},
   "outputs": [],
   "source": [
    "nlp = spacy.load(\"en_core_web_sm\")"
   ]
  },
  {
   "cell_type": "code",
   "execution_count": 7,
   "id": "66ec2623",
   "metadata": {},
   "outputs": [
    {
     "name": "stdout",
     "output_type": "stream",
     "text": [
      "114 7\n"
     ]
    }
   ],
   "source": [
    "from glob import glob\n",
    "filenames = glob(basepath + \"/Scraped_files/*.txt\")\n",
    "stopwords_files = glob(basepath + \"/StopWords/*.txt\")\n",
    "# updated_files = glob(basepath + \"/Updated_Files/*.txt\")\n",
    "number_of_files = len(filenames)\n",
    "num_stopwords_files = len(stopwords_files)\n",
    "# num_updated_files = len(updated_files)\n",
    "print(number_of_files, num_stopwords_files)"
   ]
  },
  {
   "cell_type": "markdown",
   "id": "987d61be",
   "metadata": {},
   "source": [
    "### Importing text files and making dataframe for further calculations"
   ]
  },
  {
   "cell_type": "markdown",
   "id": "b92db802",
   "metadata": {},
   "source": [
    "##### Defining function to help in sentence calculation"
   ]
  },
  {
   "cell_type": "code",
   "execution_count": 8,
   "id": "793dcbc3",
   "metadata": {},
   "outputs": [],
   "source": [
    "# para = df_process[\"Content\"][0]\n",
    "# doc = nlp(para)\n",
    "# len(list(doc.sents))"
   ]
  },
  {
   "cell_type": "code",
   "execution_count": 9,
   "id": "36902294",
   "metadata": {
    "scrolled": true
   },
   "outputs": [
    {
     "data": {
      "text/html": [
       "<div>\n",
       "<style scoped>\n",
       "    .dataframe tbody tr th:only-of-type {\n",
       "        vertical-align: middle;\n",
       "    }\n",
       "\n",
       "    .dataframe tbody tr th {\n",
       "        vertical-align: top;\n",
       "    }\n",
       "\n",
       "    .dataframe thead th {\n",
       "        text-align: right;\n",
       "    }\n",
       "</style>\n",
       "<table border=\"1\" class=\"dataframe\">\n",
       "  <thead>\n",
       "    <tr style=\"text-align: right;\">\n",
       "      <th></th>\n",
       "      <th>index</th>\n",
       "      <th>URL_ID</th>\n",
       "      <th>Content</th>\n",
       "      <th>Num_sentence</th>\n",
       "    </tr>\n",
       "  </thead>\n",
       "  <tbody>\n",
       "    <tr>\n",
       "      <th>0</th>\n",
       "      <td>/Users/hari/Documents/GitHub/Job-search-2023/B...</td>\n",
       "      <td>037</td>\n",
       "      <td>AI in healthcare to Improve Patient Outcomes |...</td>\n",
       "      <td>79</td>\n",
       "    </tr>\n",
       "    <tr>\n",
       "      <th>1</th>\n",
       "      <td>/Users/hari/Documents/GitHub/Job-search-2023/B...</td>\n",
       "      <td>038</td>\n",
       "      <td>What if the Creation is Taking Over the Creato...</td>\n",
       "      <td>83</td>\n",
       "    </tr>\n",
       "  </tbody>\n",
       "</table>\n",
       "</div>"
      ],
      "text/plain": [
       "                                               index URL_ID  \\\n",
       "0  /Users/hari/Documents/GitHub/Job-search-2023/B...    037   \n",
       "1  /Users/hari/Documents/GitHub/Job-search-2023/B...    038   \n",
       "\n",
       "                                             Content  Num_sentence  \n",
       "0  AI in healthcare to Improve Patient Outcomes |...            79  \n",
       "1  What if the Creation is Taking Over the Creato...            83  "
      ]
     },
     "execution_count": 9,
     "metadata": {},
     "output_type": "execute_result"
    }
   ],
   "source": [
    "df_process = pd.DataFrame(columns=('URL_ID', 'Content', 'Num_sentence'))\n",
    "\n",
    "for file in filenames:\n",
    "    filenumber = file[-7:-4]\n",
    "#     print(file)\n",
    "#     print(filenumber)\n",
    "    file_read = open(file, \"r\")\n",
    "    lines = file_read.readlines()\n",
    "    file_read.close()\n",
    "\n",
    "    text = ''''''\n",
    "    for index, line in enumerate(lines):\n",
    "        lines[index] = line.strip()\n",
    "        text = text + str(lines[index])\n",
    "    doc = nlp(text)\n",
    "    num_sent = len(list(doc.sents))\n",
    "#     print(file, \"    \", num_sent)\n",
    "    df_process.loc[file] = [filenumber, text, num_sent]\n",
    "df_process = df_process.sort_values(by=['URL_ID'])\n",
    "df_process = df_process.reset_index()\n",
    "df_process.head(2)"
   ]
  },
  {
   "cell_type": "markdown",
   "id": "000c55f3",
   "metadata": {},
   "source": [
    "### Extract stopwords from given files and store it to variable \"temp_stopwrds\""
   ]
  },
  {
   "cell_type": "code",
   "execution_count": 10,
   "id": "6484b9de",
   "metadata": {},
   "outputs": [],
   "source": [
    "temp_stopwrds = []\n",
    "for file in stopwords_files:\n",
    "    file_read = open(file, \"r\", encoding='latin-1')\n",
    "    lines = file_read.readlines()\n",
    "    file_read.close()\n",
    "    for index, line in enumerate(lines):\n",
    "        lines[index] = line.strip()\n",
    "        temp_stopwrds.append(str(lines[index]))\n",
    "temp_stopwrds = set(temp_stopwrds)"
   ]
  },
  {
   "cell_type": "code",
   "execution_count": 11,
   "id": "5b0a459c",
   "metadata": {},
   "outputs": [],
   "source": [
    "positive_words = []\n",
    "neg_words = []\n",
    "\n",
    "pos_file_read = open(basepath + \"/MasterDictionary/positive-words.txt\", \"r\", encoding='latin-1')\n",
    "pos_lines = pos_file_read.readlines()\n",
    "pos_file_read.close()\n",
    "neg_file_read = open(basepath + \"/MasterDictionary/negative-words.txt\", \"r\", encoding='latin-1')\n",
    "neg_lines = neg_file_read.readlines()\n",
    "neg_file_read.close()\n",
    "for index, line in enumerate(pos_lines):\n",
    "    pos_lines[index] = line.strip()\n",
    "    positive_words.append(str(pos_lines[index]))\n",
    "positive_words = set(positive_words)\n",
    "for index, line in enumerate(neg_lines):\n",
    "    neg_lines[index] = line.strip()\n",
    "    neg_words.append(str(neg_lines[index]))\n",
    "neg_words = set(neg_words)"
   ]
  },
  {
   "cell_type": "code",
   "execution_count": 12,
   "id": "5e76684a",
   "metadata": {},
   "outputs": [],
   "source": [
    "def char_counts(x):\n",
    "    s = x.split()\n",
    "    x = ''.join(s)\n",
    "    return len(x)"
   ]
  },
  {
   "cell_type": "code",
   "execution_count": 13,
   "id": "92cd17d0",
   "metadata": {},
   "outputs": [],
   "source": [
    "nlp_syll = spacy.load('en_core_web_md')\n",
    "syllables = SpacySyllables(nlp_syll)\n",
    "nlp_syll.add_pipe('syllables', after='tagger')\n",
    "\n",
    "def spacy_syllablize(word):\n",
    "    token = nlp_syll(word)[0]\n",
    "    return token._.syllables\n",
    "\n",
    "def count_syllables(x):\n",
    "    count = 0\n",
    "    for test_word in (str(x).split()):\n",
    "        try:\n",
    "#             print(\"yes \", end = \"\")\n",
    "            if len(spacy_syllablize(test_word)) > 2:\n",
    "                count += 1\n",
    "        except TypeError:\n",
    "            pass\n",
    "    return count"
   ]
  },
  {
   "cell_type": "code",
   "execution_count": 14,
   "id": "54cf326f",
   "metadata": {},
   "outputs": [],
   "source": [
    "df_process[\"URL\"] = output_file[\"URL\"]\n",
    "df_process['Content'] = df_process['Content'].apply(lambda x: ' '.join([t for t in x.split() if t not in temp_stopwrds]))\n",
    "df_process['Content'] = df_process['Content'].apply(lambda x: re.sub('[^.,a-zA-Z0-9 \\n\\.]', '',x))\n",
    "df_process[\"Word_count\"] = df_process[\"Content\"].apply(lambda x: len(str(x).split()))\n",
    "df_process[\"Char_count\"] = df_process[\"Content\"].apply(lambda x: char_counts(x))\n",
    "df_process[\"Avg_word_len\"] = df_process[\"Char_count\"] / df_process[\"Word_count\"]\n",
    "df_process['Pos_score'] = df_process['Content'].apply(lambda x: len(' '.join(t for t in x.split() if t in positive_words)))\n",
    "df_process['Neg_score'] = df_process['Content'].apply(lambda x: len(' '.join(t for t in x.split() if t in neg_words)))\n",
    "df_process['Polarity_score'] = (df_process['Pos_score'] - df_process['Neg_score']) / (df_process['Pos_score'] + df_process['Neg_score'] +0.000001)\n",
    "df_process['Subjectivity_score'] = (df_process['Pos_score'] + df_process['Neg_score']) / (df_process['Word_count'] +0.000001)\n",
    "df_process[\"Avg_sent_len\"] = df_process[\"Word_count\"] / df_process[\"Num_sentence\"]\n",
    "df_process[\"Complex_count\"] = df_process[\"Content\"].apply(lambda x: count_syllables(str(x)))\n"
   ]
  },
  {
   "cell_type": "code",
   "execution_count": 15,
   "id": "67f63abf",
   "metadata": {},
   "outputs": [
    {
     "data": {
      "text/plain": [
       "Index(['index', 'URL_ID', 'Content', 'Num_sentence', 'URL', 'Word_count',\n",
       "       'Char_count', 'Avg_word_len', 'Pos_score', 'Neg_score',\n",
       "       'Polarity_score', 'Subjectivity_score', 'Avg_sent_len', 'Complex_count',\n",
       "       'Perc_complex_wrds', 'Fog_index'],\n",
       "      dtype='object')"
      ]
     },
     "execution_count": 15,
     "metadata": {},
     "output_type": "execute_result"
    }
   ],
   "source": [
    "df_process[\"Perc_complex_wrds\"] = df_process[\"Complex_count\"] / df_process[\"Word_count\"]\n",
    "df_process[\"Fog_index\"] = 0.4 * (df_process[\"Avg_sent_len\"] + df_process[\"Perc_complex_wrds\"])\n",
    "df_process.columns"
   ]
  },
  {
   "cell_type": "code",
   "execution_count": 16,
   "id": "ceec9be8",
   "metadata": {},
   "outputs": [
    {
     "data": {
      "text/html": [
       "<div>\n",
       "<style scoped>\n",
       "    .dataframe tbody tr th:only-of-type {\n",
       "        vertical-align: middle;\n",
       "    }\n",
       "\n",
       "    .dataframe tbody tr th {\n",
       "        vertical-align: top;\n",
       "    }\n",
       "\n",
       "    .dataframe thead th {\n",
       "        text-align: right;\n",
       "    }\n",
       "</style>\n",
       "<table border=\"1\" class=\"dataframe\">\n",
       "  <thead>\n",
       "    <tr style=\"text-align: right;\">\n",
       "      <th></th>\n",
       "      <th>URL_ID</th>\n",
       "      <th>URL</th>\n",
       "      <th>Content</th>\n",
       "      <th>Num_sentence</th>\n",
       "      <th>Word_count</th>\n",
       "      <th>Char_count</th>\n",
       "      <th>Avg_word_len</th>\n",
       "      <th>Pos_score</th>\n",
       "      <th>Neg_score</th>\n",
       "      <th>Polarity_score</th>\n",
       "      <th>Subjectivity_score</th>\n",
       "      <th>Avg_sent_len</th>\n",
       "      <th>Complex_count</th>\n",
       "      <th>Perc_complex_wrds</th>\n",
       "      <th>Fog_index</th>\n",
       "    </tr>\n",
       "  </thead>\n",
       "  <tbody>\n",
       "    <tr>\n",
       "      <th>0</th>\n",
       "      <td>037</td>\n",
       "      <td>https://insights.blackcoffer.com/ai-in-healthc...</td>\n",
       "      <td>healthcare Improve Patient Outcomes  Blackcoff...</td>\n",
       "      <td>79</td>\n",
       "      <td>1144</td>\n",
       "      <td>8946</td>\n",
       "      <td>7.819930</td>\n",
       "      <td>511</td>\n",
       "      <td>204</td>\n",
       "      <td>0.429371</td>\n",
       "      <td>0.625000</td>\n",
       "      <td>14.481013</td>\n",
       "      <td>389</td>\n",
       "      <td>0.340035</td>\n",
       "      <td>5.928419</td>\n",
       "    </tr>\n",
       "    <tr>\n",
       "      <th>1</th>\n",
       "      <td>038</td>\n",
       "      <td>https://insights.blackcoffer.com/what-if-the-c...</td>\n",
       "      <td>What Creation Taking Over Creator  Blackcoffer...</td>\n",
       "      <td>83</td>\n",
       "      <td>789</td>\n",
       "      <td>5622</td>\n",
       "      <td>7.125475</td>\n",
       "      <td>371</td>\n",
       "      <td>213</td>\n",
       "      <td>0.270548</td>\n",
       "      <td>0.740177</td>\n",
       "      <td>9.506024</td>\n",
       "      <td>213</td>\n",
       "      <td>0.269962</td>\n",
       "      <td>3.910394</td>\n",
       "    </tr>\n",
       "  </tbody>\n",
       "</table>\n",
       "</div>"
      ],
      "text/plain": [
       "  URL_ID                                                URL  \\\n",
       "0    037  https://insights.blackcoffer.com/ai-in-healthc...   \n",
       "1    038  https://insights.blackcoffer.com/what-if-the-c...   \n",
       "\n",
       "                                             Content  Num_sentence  \\\n",
       "0  healthcare Improve Patient Outcomes  Blackcoff...            79   \n",
       "1  What Creation Taking Over Creator  Blackcoffer...            83   \n",
       "\n",
       "   Word_count  Char_count  Avg_word_len  Pos_score  Neg_score  Polarity_score  \\\n",
       "0        1144        8946      7.819930        511        204        0.429371   \n",
       "1         789        5622      7.125475        371        213        0.270548   \n",
       "\n",
       "   Subjectivity_score  Avg_sent_len  Complex_count  Perc_complex_wrds  \\\n",
       "0            0.625000     14.481013            389           0.340035   \n",
       "1            0.740177      9.506024            213           0.269962   \n",
       "\n",
       "   Fog_index  \n",
       "0   5.928419  \n",
       "1   3.910394  "
      ]
     },
     "execution_count": 16,
     "metadata": {},
     "output_type": "execute_result"
    }
   ],
   "source": [
    "df_process = df_process.loc[:,['URL_ID', 'URL', 'Content', 'Num_sentence', 'Word_count', 'Char_count',\n",
    "       'Avg_word_len', 'Pos_score', 'Neg_score', 'Polarity_score',\n",
    "       'Subjectivity_score', 'Avg_sent_len', 'Complex_count',\n",
    "       'Perc_complex_wrds', 'Fog_index']]\n",
    "df_process.head(2)"
   ]
  },
  {
   "cell_type": "code",
   "execution_count": 21,
   "id": "193de631",
   "metadata": {},
   "outputs": [
    {
     "data": {
      "text/html": [
       "<div>\n",
       "<style scoped>\n",
       "    .dataframe tbody tr th:only-of-type {\n",
       "        vertical-align: middle;\n",
       "    }\n",
       "\n",
       "    .dataframe tbody tr th {\n",
       "        vertical-align: top;\n",
       "    }\n",
       "\n",
       "    .dataframe thead th {\n",
       "        text-align: right;\n",
       "    }\n",
       "</style>\n",
       "<table border=\"1\" class=\"dataframe\">\n",
       "  <thead>\n",
       "    <tr style=\"text-align: right;\">\n",
       "      <th></th>\n",
       "      <th>URL_ID</th>\n",
       "      <th>URL</th>\n",
       "      <th>Num_sentence</th>\n",
       "      <th>Word_count</th>\n",
       "      <th>Char_count</th>\n",
       "      <th>Avg_word_len</th>\n",
       "      <th>Pos_score</th>\n",
       "      <th>Neg_score</th>\n",
       "      <th>Polarity_score</th>\n",
       "      <th>Subjectivity_score</th>\n",
       "      <th>Avg_sent_len</th>\n",
       "      <th>Complex_count</th>\n",
       "      <th>Perc_complex_wrds</th>\n",
       "      <th>Fog_index</th>\n",
       "    </tr>\n",
       "  </thead>\n",
       "  <tbody>\n",
       "    <tr>\n",
       "      <th>0</th>\n",
       "      <td>037</td>\n",
       "      <td>https://insights.blackcoffer.com/ai-in-healthc...</td>\n",
       "      <td>79</td>\n",
       "      <td>1144</td>\n",
       "      <td>8946</td>\n",
       "      <td>7.819930</td>\n",
       "      <td>511</td>\n",
       "      <td>204</td>\n",
       "      <td>0.429371</td>\n",
       "      <td>0.625000</td>\n",
       "      <td>14.481013</td>\n",
       "      <td>389</td>\n",
       "      <td>0.340035</td>\n",
       "      <td>5.928419</td>\n",
       "    </tr>\n",
       "    <tr>\n",
       "      <th>1</th>\n",
       "      <td>038</td>\n",
       "      <td>https://insights.blackcoffer.com/what-if-the-c...</td>\n",
       "      <td>83</td>\n",
       "      <td>789</td>\n",
       "      <td>5622</td>\n",
       "      <td>7.125475</td>\n",
       "      <td>371</td>\n",
       "      <td>213</td>\n",
       "      <td>0.270548</td>\n",
       "      <td>0.740177</td>\n",
       "      <td>9.506024</td>\n",
       "      <td>213</td>\n",
       "      <td>0.269962</td>\n",
       "      <td>3.910394</td>\n",
       "    </tr>\n",
       "    <tr>\n",
       "      <th>2</th>\n",
       "      <td>039</td>\n",
       "      <td>https://insights.blackcoffer.com/what-jobs-wil...</td>\n",
       "      <td>89</td>\n",
       "      <td>1030</td>\n",
       "      <td>7938</td>\n",
       "      <td>7.706796</td>\n",
       "      <td>570</td>\n",
       "      <td>242</td>\n",
       "      <td>0.403941</td>\n",
       "      <td>0.788350</td>\n",
       "      <td>11.573034</td>\n",
       "      <td>354</td>\n",
       "      <td>0.343689</td>\n",
       "      <td>4.766689</td>\n",
       "    </tr>\n",
       "    <tr>\n",
       "      <th>3</th>\n",
       "      <td>040</td>\n",
       "      <td>https://insights.blackcoffer.com/will-machine-...</td>\n",
       "      <td>97</td>\n",
       "      <td>846</td>\n",
       "      <td>6058</td>\n",
       "      <td>7.160757</td>\n",
       "      <td>396</td>\n",
       "      <td>123</td>\n",
       "      <td>0.526012</td>\n",
       "      <td>0.613475</td>\n",
       "      <td>8.721649</td>\n",
       "      <td>244</td>\n",
       "      <td>0.288416</td>\n",
       "      <td>3.604026</td>\n",
       "    </tr>\n",
       "    <tr>\n",
       "      <th>4</th>\n",
       "      <td>041</td>\n",
       "      <td>https://insights.blackcoffer.com/will-ai-repla...</td>\n",
       "      <td>87</td>\n",
       "      <td>986</td>\n",
       "      <td>7187</td>\n",
       "      <td>7.289047</td>\n",
       "      <td>395</td>\n",
       "      <td>146</td>\n",
       "      <td>0.460259</td>\n",
       "      <td>0.548682</td>\n",
       "      <td>11.333333</td>\n",
       "      <td>288</td>\n",
       "      <td>0.292089</td>\n",
       "      <td>4.650169</td>\n",
       "    </tr>\n",
       "  </tbody>\n",
       "</table>\n",
       "</div>"
      ],
      "text/plain": [
       "  URL_ID                                                URL  Num_sentence  \\\n",
       "0    037  https://insights.blackcoffer.com/ai-in-healthc...            79   \n",
       "1    038  https://insights.blackcoffer.com/what-if-the-c...            83   \n",
       "2    039  https://insights.blackcoffer.com/what-jobs-wil...            89   \n",
       "3    040  https://insights.blackcoffer.com/will-machine-...            97   \n",
       "4    041  https://insights.blackcoffer.com/will-ai-repla...            87   \n",
       "\n",
       "   Word_count  Char_count  Avg_word_len  Pos_score  Neg_score  Polarity_score  \\\n",
       "0        1144        8946      7.819930        511        204        0.429371   \n",
       "1         789        5622      7.125475        371        213        0.270548   \n",
       "2        1030        7938      7.706796        570        242        0.403941   \n",
       "3         846        6058      7.160757        396        123        0.526012   \n",
       "4         986        7187      7.289047        395        146        0.460259   \n",
       "\n",
       "   Subjectivity_score  Avg_sent_len  Complex_count  Perc_complex_wrds  \\\n",
       "0            0.625000     14.481013            389           0.340035   \n",
       "1            0.740177      9.506024            213           0.269962   \n",
       "2            0.788350     11.573034            354           0.343689   \n",
       "3            0.613475      8.721649            244           0.288416   \n",
       "4            0.548682     11.333333            288           0.292089   \n",
       "\n",
       "   Fog_index  \n",
       "0   5.928419  \n",
       "1   3.910394  \n",
       "2   4.766689  \n",
       "3   3.604026  \n",
       "4   4.650169  "
      ]
     },
     "execution_count": 21,
     "metadata": {},
     "output_type": "execute_result"
    }
   ],
   "source": [
    "df_process_final = df_process.copy()\n",
    "df_process_final = df_process_final.drop([\"Content\"], axis = 1)\n",
    "df_process_final.head()"
   ]
  },
  {
   "cell_type": "code",
   "execution_count": 22,
   "id": "5c657cf8",
   "metadata": {},
   "outputs": [],
   "source": [
    "df_process_final.to_excel(\"Hari_Output_file.xlsx\", index=False)"
   ]
  },
  {
   "cell_type": "code",
   "execution_count": null,
   "id": "961d2ccb",
   "metadata": {},
   "outputs": [],
   "source": []
  },
  {
   "cell_type": "code",
   "execution_count": null,
   "id": "a0a237f8",
   "metadata": {},
   "outputs": [],
   "source": []
  },
  {
   "cell_type": "code",
   "execution_count": null,
   "id": "481ced80",
   "metadata": {},
   "outputs": [],
   "source": []
  }
 ],
 "metadata": {
  "kernelspec": {
   "display_name": "Python 3 (ipykernel)",
   "language": "python",
   "name": "python3"
  },
  "language_info": {
   "codemirror_mode": {
    "name": "ipython",
    "version": 3
   },
   "file_extension": ".py",
   "mimetype": "text/x-python",
   "name": "python",
   "nbconvert_exporter": "python",
   "pygments_lexer": "ipython3",
   "version": "3.10.9"
  }
 },
 "nbformat": 4,
 "nbformat_minor": 5
}
